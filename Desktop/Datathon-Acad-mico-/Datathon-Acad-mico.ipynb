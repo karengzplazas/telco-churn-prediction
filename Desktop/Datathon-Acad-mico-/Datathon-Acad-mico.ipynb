{
 "cells": [
  {
   "cell_type": "markdown",
   "id": "bffd0f92",
   "metadata": {},
   "source": [
    "Importar librerias"
   ]
  },
  {
   "cell_type": "code",
   "execution_count": null,
   "id": "07b68f1d",
   "metadata": {},
   "outputs": [],
   "source": []
  }
 ],
 "metadata": {
  "language_info": {
   "name": "python"
  }
 },
 "nbformat": 4,
 "nbformat_minor": 5
}
